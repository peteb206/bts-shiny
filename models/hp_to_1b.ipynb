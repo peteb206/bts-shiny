{
 "cells": [
  {
   "cell_type": "code",
   "execution_count": 1,
   "metadata": {},
   "outputs": [],
   "source": [
    "import pandas as pd\n",
    "from pymongoarrow.api import find_pandas_all\n",
    "import sys\n",
    "sys.path.insert(1, '/Users/peteberryman/Desktop/bts-shiny')\n",
    "from data import __DB__"
   ]
  },
  {
   "cell_type": "markdown",
   "metadata": {},
   "source": [
    "View relationship between sprint speed, batter handedness and HP-to-1B:\n",
    "\n",
    "https://charts.mongodb.com/charts-beat-the-streak-cejqw/dashboards/5d97b380-6263-41e0-945c-58f32d00b379"
   ]
  },
  {
   "cell_type": "code",
   "execution_count": 2,
   "metadata": {},
   "outputs": [
    {
     "data": {
      "text/html": [
       "<div>\n",
       "<style scoped>\n",
       "    .dataframe tbody tr th:only-of-type {\n",
       "        vertical-align: middle;\n",
       "    }\n",
       "\n",
       "    .dataframe tbody tr th {\n",
       "        vertical-align: top;\n",
       "    }\n",
       "\n",
       "    .dataframe thead th {\n",
       "        text-align: right;\n",
       "    }\n",
       "</style>\n",
       "<table border=\"1\" class=\"dataframe\">\n",
       "  <thead>\n",
       "    <tr style=\"text-align: right;\">\n",
       "      <th></th>\n",
       "      <th>batter</th>\n",
       "      <th>hp_to_1b</th>\n",
       "      <th>speed</th>\n",
       "      <th>year</th>\n",
       "      <th>bats</th>\n",
       "    </tr>\n",
       "  </thead>\n",
       "  <tbody>\n",
       "    <tr>\n",
       "      <th>0</th>\n",
       "      <td>514917</td>\n",
       "      <td>4.18</td>\n",
       "      <td>29.9</td>\n",
       "      <td>2015</td>\n",
       "      <td>S</td>\n",
       "    </tr>\n",
       "    <tr>\n",
       "      <th>1</th>\n",
       "      <td>453211</td>\n",
       "      <td>4.14</td>\n",
       "      <td>29.8</td>\n",
       "      <td>2015</td>\n",
       "      <td>R</td>\n",
       "    </tr>\n",
       "    <tr>\n",
       "      <th>2</th>\n",
       "      <td>592261</td>\n",
       "      <td>4.07</td>\n",
       "      <td>30.6</td>\n",
       "      <td>2015</td>\n",
       "      <td>R</td>\n",
       "    </tr>\n",
       "    <tr>\n",
       "      <th>3</th>\n",
       "      <td>606299</td>\n",
       "      <td>NaN</td>\n",
       "      <td>29.1</td>\n",
       "      <td>2015</td>\n",
       "      <td>R</td>\n",
       "    </tr>\n",
       "    <tr>\n",
       "      <th>4</th>\n",
       "      <td>608671</td>\n",
       "      <td>4.13</td>\n",
       "      <td>29.9</td>\n",
       "      <td>2015</td>\n",
       "      <td>L</td>\n",
       "    </tr>\n",
       "    <tr>\n",
       "      <th>...</th>\n",
       "      <td>...</td>\n",
       "      <td>...</td>\n",
       "      <td>...</td>\n",
       "      <td>...</td>\n",
       "      <td>...</td>\n",
       "    </tr>\n",
       "    <tr>\n",
       "      <th>5190</th>\n",
       "      <td>425877</td>\n",
       "      <td>4.91</td>\n",
       "      <td>22.8</td>\n",
       "      <td>2018</td>\n",
       "      <td>R</td>\n",
       "    </tr>\n",
       "    <tr>\n",
       "      <th>5191</th>\n",
       "      <td>435263</td>\n",
       "      <td>4.98</td>\n",
       "      <td>22.7</td>\n",
       "      <td>2018</td>\n",
       "      <td>L</td>\n",
       "    </tr>\n",
       "    <tr>\n",
       "      <th>5192</th>\n",
       "      <td>467092</td>\n",
       "      <td>4.93</td>\n",
       "      <td>22.7</td>\n",
       "      <td>2018</td>\n",
       "      <td>R</td>\n",
       "    </tr>\n",
       "    <tr>\n",
       "      <th>5193</th>\n",
       "      <td>572180</td>\n",
       "      <td>NaN</td>\n",
       "      <td>22.5</td>\n",
       "      <td>2018</td>\n",
       "      <td>R</td>\n",
       "    </tr>\n",
       "    <tr>\n",
       "      <th>5194</th>\n",
       "      <td>405395</td>\n",
       "      <td>5.01</td>\n",
       "      <td>22.2</td>\n",
       "      <td>2018</td>\n",
       "      <td>R</td>\n",
       "    </tr>\n",
       "  </tbody>\n",
       "</table>\n",
       "<p>5195 rows × 5 columns</p>\n",
       "</div>"
      ],
      "text/plain": [
       "      batter  hp_to_1b  speed  year bats\n",
       "0     514917      4.18   29.9  2015    S\n",
       "1     453211      4.14   29.8  2015    R\n",
       "2     592261      4.07   30.6  2015    R\n",
       "3     606299       NaN   29.1  2015    R\n",
       "4     608671      4.13   29.9  2015    L\n",
       "...      ...       ...    ...   ...  ...\n",
       "5190  425877      4.91   22.8  2018    R\n",
       "5191  435263      4.98   22.7  2018    L\n",
       "5192  467092      4.93   22.7  2018    R\n",
       "5193  572180       NaN   22.5  2018    R\n",
       "5194  405395      5.01   22.2  2018    R\n",
       "\n",
       "[5195 rows x 5 columns]"
      ]
     },
     "execution_count": 2,
     "metadata": {},
     "output_type": "execute_result"
    }
   ],
   "source": [
    "sprint_speeds_df: pd.DataFrame = find_pandas_all(__DB__.sprintSpeeds, dict(), projection = {'_id': False})\n",
    "sprint_speeds_df"
   ]
  },
  {
   "cell_type": "code",
   "execution_count": 3,
   "metadata": {},
   "outputs": [
    {
     "data": {
      "text/plain": [
       "speed\n",
       "False    5195\n",
       "Name: count, dtype: int64"
      ]
     },
     "execution_count": 3,
     "metadata": {},
     "output_type": "execute_result"
    }
   ],
   "source": [
    "sprint_speeds_df['speed'].isna().value_counts()"
   ]
  },
  {
   "cell_type": "code",
   "execution_count": 4,
   "metadata": {},
   "outputs": [
    {
     "data": {
      "text/plain": [
       "hp_to_1b\n",
       "False    4267\n",
       "True      928\n",
       "Name: count, dtype: int64"
      ]
     },
     "execution_count": 4,
     "metadata": {},
     "output_type": "execute_result"
    }
   ],
   "source": [
    "sprint_speeds_df['hp_to_1b'].isna().value_counts()"
   ]
  },
  {
   "cell_type": "code",
   "execution_count": 5,
   "metadata": {},
   "outputs": [
    {
     "data": {
      "text/plain": [
       "bats\n",
       "R    2892\n",
       "L    1683\n",
       "S     620\n",
       "Name: count, dtype: int64"
      ]
     },
     "execution_count": 5,
     "metadata": {},
     "output_type": "execute_result"
    }
   ],
   "source": [
    "sprint_speeds_df['bats'].value_counts()"
   ]
  },
  {
   "cell_type": "markdown",
   "metadata": {},
   "source": [
    "Assuming switch-hitters have their best HP-to-1B time as a lefty"
   ]
  },
  {
   "cell_type": "code",
   "execution_count": 6,
   "metadata": {},
   "outputs": [
    {
     "name": "stdout",
     "output_type": "stream",
     "text": [
      "R^2: 0.83\n"
     ]
    },
    {
     "data": {
      "text/html": [
       "<div>\n",
       "<style scoped>\n",
       "    .dataframe tbody tr th:only-of-type {\n",
       "        vertical-align: middle;\n",
       "    }\n",
       "\n",
       "    .dataframe tbody tr th {\n",
       "        vertical-align: top;\n",
       "    }\n",
       "\n",
       "    .dataframe thead th {\n",
       "        text-align: right;\n",
       "    }\n",
       "</style>\n",
       "<table border=\"1\" class=\"dataframe\">\n",
       "  <thead>\n",
       "    <tr style=\"text-align: right;\">\n",
       "      <th></th>\n",
       "      <th>batter</th>\n",
       "      <th>hp_to_1b</th>\n",
       "      <th>speed</th>\n",
       "      <th>year</th>\n",
       "      <th>bats</th>\n",
       "      <th>pred_hp_to_1b</th>\n",
       "    </tr>\n",
       "  </thead>\n",
       "  <tbody>\n",
       "    <tr>\n",
       "      <th>0</th>\n",
       "      <td>514917</td>\n",
       "      <td>4.18</td>\n",
       "      <td>29.9</td>\n",
       "      <td>2015</td>\n",
       "      <td>S</td>\n",
       "      <td>4.02</td>\n",
       "    </tr>\n",
       "    <tr>\n",
       "      <th>1</th>\n",
       "      <td>453211</td>\n",
       "      <td>4.14</td>\n",
       "      <td>29.8</td>\n",
       "      <td>2015</td>\n",
       "      <td>R</td>\n",
       "      <td>4.14</td>\n",
       "    </tr>\n",
       "    <tr>\n",
       "      <th>2</th>\n",
       "      <td>592261</td>\n",
       "      <td>4.07</td>\n",
       "      <td>30.6</td>\n",
       "      <td>2015</td>\n",
       "      <td>R</td>\n",
       "      <td>4.04</td>\n",
       "    </tr>\n",
       "    <tr>\n",
       "      <th>3</th>\n",
       "      <td>606299</td>\n",
       "      <td>4.23</td>\n",
       "      <td>29.1</td>\n",
       "      <td>2015</td>\n",
       "      <td>R</td>\n",
       "      <td>4.23</td>\n",
       "    </tr>\n",
       "    <tr>\n",
       "      <th>4</th>\n",
       "      <td>608671</td>\n",
       "      <td>4.13</td>\n",
       "      <td>29.9</td>\n",
       "      <td>2015</td>\n",
       "      <td>L</td>\n",
       "      <td>4.02</td>\n",
       "    </tr>\n",
       "    <tr>\n",
       "      <th>...</th>\n",
       "      <td>...</td>\n",
       "      <td>...</td>\n",
       "      <td>...</td>\n",
       "      <td>...</td>\n",
       "      <td>...</td>\n",
       "      <td>...</td>\n",
       "    </tr>\n",
       "    <tr>\n",
       "      <th>5190</th>\n",
       "      <td>425877</td>\n",
       "      <td>4.91</td>\n",
       "      <td>22.8</td>\n",
       "      <td>2018</td>\n",
       "      <td>R</td>\n",
       "      <td>5.06</td>\n",
       "    </tr>\n",
       "    <tr>\n",
       "      <th>5191</th>\n",
       "      <td>435263</td>\n",
       "      <td>4.98</td>\n",
       "      <td>22.7</td>\n",
       "      <td>2018</td>\n",
       "      <td>L</td>\n",
       "      <td>4.97</td>\n",
       "    </tr>\n",
       "    <tr>\n",
       "      <th>5192</th>\n",
       "      <td>467092</td>\n",
       "      <td>4.93</td>\n",
       "      <td>22.7</td>\n",
       "      <td>2018</td>\n",
       "      <td>R</td>\n",
       "      <td>5.07</td>\n",
       "    </tr>\n",
       "    <tr>\n",
       "      <th>5193</th>\n",
       "      <td>572180</td>\n",
       "      <td>5.10</td>\n",
       "      <td>22.5</td>\n",
       "      <td>2018</td>\n",
       "      <td>R</td>\n",
       "      <td>5.10</td>\n",
       "    </tr>\n",
       "    <tr>\n",
       "      <th>5194</th>\n",
       "      <td>405395</td>\n",
       "      <td>5.01</td>\n",
       "      <td>22.2</td>\n",
       "      <td>2018</td>\n",
       "      <td>R</td>\n",
       "      <td>5.14</td>\n",
       "    </tr>\n",
       "  </tbody>\n",
       "</table>\n",
       "<p>5195 rows × 6 columns</p>\n",
       "</div>"
      ],
      "text/plain": [
       "      batter  hp_to_1b  speed  year bats  pred_hp_to_1b\n",
       "0     514917      4.18   29.9  2015    S           4.02\n",
       "1     453211      4.14   29.8  2015    R           4.14\n",
       "2     592261      4.07   30.6  2015    R           4.04\n",
       "3     606299      4.23   29.1  2015    R           4.23\n",
       "4     608671      4.13   29.9  2015    L           4.02\n",
       "...      ...       ...    ...   ...  ...            ...\n",
       "5190  425877      4.91   22.8  2018    R           5.06\n",
       "5191  435263      4.98   22.7  2018    L           4.97\n",
       "5192  467092      4.93   22.7  2018    R           5.07\n",
       "5193  572180      5.10   22.5  2018    R           5.10\n",
       "5194  405395      5.01   22.2  2018    R           5.14\n",
       "\n",
       "[5195 rows x 6 columns]"
      ]
     },
     "execution_count": 6,
     "metadata": {},
     "output_type": "execute_result"
    }
   ],
   "source": [
    "from sklearn.linear_model import LinearRegression\n",
    "from sklearn.metrics import r2_score\n",
    "\n",
    "# Dummy variable for batter handedness\n",
    "sprint_speeds_df['rhb'] = sprint_speeds_df['bats'] == 'R'\n",
    "\n",
    "speed_df_no_na = sprint_speeds_df.dropna()\n",
    "speed_reg = LinearRegression().fit(speed_df_no_na[['rhb', 'speed']], speed_df_no_na['hp_to_1b'])\n",
    "print('R^2:', round(float(r2_score(speed_df_no_na['hp_to_1b'], speed_reg.predict(speed_df_no_na[['rhb', 'speed']]))), 2))\n",
    "\n",
    "sprint_speeds_df['pred_hp_to_1b'] = speed_reg.predict(sprint_speeds_df[['rhb', 'speed']]).round(2)\n",
    "sprint_speeds_df['hp_to_1b'] = sprint_speeds_df.apply(lambda row: row['hp_to_1b'] if row['hp_to_1b'] > 0 else row['pred_hp_to_1b'], axis = 1)\n",
    "sprint_speeds_df.drop(['rhb'], axis = 1, inplace = True)\n",
    "sprint_speeds_df"
   ]
  },
  {
   "cell_type": "markdown",
   "metadata": {},
   "source": [
    "Save model as pickle"
   ]
  },
  {
   "cell_type": "code",
   "execution_count": 7,
   "metadata": {},
   "outputs": [],
   "source": [
    "import pickle\n",
    "\n",
    "with open('hp_to_1b.pkl', 'wb') as pkl:\n",
    "    pickle.dump(speed_reg, pkl)"
   ]
  }
 ],
 "metadata": {
  "kernelspec": {
   "display_name": "Python 3",
   "language": "python",
   "name": "python3"
  },
  "language_info": {
   "codemirror_mode": {
    "name": "ipython",
    "version": 3
   },
   "file_extension": ".py",
   "mimetype": "text/x-python",
   "name": "python",
   "nbconvert_exporter": "python",
   "pygments_lexer": "ipython3",
   "version": "3.11.4"
  },
  "orig_nbformat": 4
 },
 "nbformat": 4,
 "nbformat_minor": 2
}
